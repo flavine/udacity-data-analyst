{
 "cells": [
  {
   "cell_type": "markdown",
   "metadata": {},
   "source": [
    "# Stroop Test Results Analysis\n",
    "\n",
    "In this report, we are going to look at the Stroop test results and see if there any significant difference between the different test conditions."
   ]
  },
  {
   "cell_type": "code",
   "execution_count": 13,
   "metadata": {
    "collapsed": false
   },
   "outputs": [
    {
     "data": {
      "text/html": [
       "<div>\n",
       "<table border=\"1\" class=\"dataframe\">\n",
       "  <thead>\n",
       "    <tr style=\"text-align: right;\">\n",
       "      <th></th>\n",
       "      <th>Congruent</th>\n",
       "      <th>Incongruent</th>\n",
       "    </tr>\n",
       "  </thead>\n",
       "  <tbody>\n",
       "    <tr>\n",
       "      <th>0</th>\n",
       "      <td>12.079</td>\n",
       "      <td>19.278</td>\n",
       "    </tr>\n",
       "    <tr>\n",
       "      <th>1</th>\n",
       "      <td>16.791</td>\n",
       "      <td>18.741</td>\n",
       "    </tr>\n",
       "    <tr>\n",
       "      <th>2</th>\n",
       "      <td>9.564</td>\n",
       "      <td>21.214</td>\n",
       "    </tr>\n",
       "    <tr>\n",
       "      <th>3</th>\n",
       "      <td>8.630</td>\n",
       "      <td>15.687</td>\n",
       "    </tr>\n",
       "    <tr>\n",
       "      <th>4</th>\n",
       "      <td>14.669</td>\n",
       "      <td>22.803</td>\n",
       "    </tr>\n",
       "  </tbody>\n",
       "</table>\n",
       "</div>"
      ],
      "text/plain": [
       "   Congruent  Incongruent\n",
       "0     12.079       19.278\n",
       "1     16.791       18.741\n",
       "2      9.564       21.214\n",
       "3      8.630       15.687\n",
       "4     14.669       22.803"
      ]
     },
     "execution_count": 13,
     "metadata": {},
     "output_type": "execute_result"
    }
   ],
   "source": [
    "import numpy as np\n",
    "import pandas as pd\n",
    "import matplotlib.pyplot as plt\n",
    "import seaborn as sns\n",
    "%matplotlib inline\n",
    "from scipy.stats import ttest_ind,ttest_rel\n",
    "\n",
    "stroop_df=pd.read_csv('stroopdata.csv')\n",
    "stroop_df.head()"
   ]
  },
  {
   "cell_type": "code",
   "execution_count": 3,
   "metadata": {
    "collapsed": false
   },
   "outputs": [
    {
     "data": {
      "text/plain": [
       "(24, 2)"
      ]
     },
     "execution_count": 3,
     "metadata": {},
     "output_type": "execute_result"
    }
   ],
   "source": [
    "stroop_df.shape"
   ]
  },
  {
   "cell_type": "markdown",
   "metadata": {},
   "source": [
    "There are 24 sample points in this data set (n=24)."
   ]
  },
  {
   "cell_type": "markdown",
   "metadata": {},
   "source": [
    "Q1: The independet variable is whether the words and the color of the words are congruent or incongruent. The dependent variable in this experiment is the total time taken for the participant to correctly name the color for a list of words."
   ]
  },
  {
   "cell_type": "markdown",
   "metadata": {},
   "source": [
    "Q2: Null hypothesis: The mean time taken for the population to correctly name the color for congruent and incongruent list of words are the same. \n",
    "H0: uI = uC where uI is the population mean of the time taken for the incongruent test while uC is the population mean of the time taken for the congruent test\n",
    "\n",
    "Alternative hypothesis: The mean time taken for population to correctly name the color for incongruent words is greater than congruent words\n",
    "Ha: uI > uC where uI is the population mean of the time taken for the incongruent test while uC is the population mean of the time taken for the congruent test\n",
    "\n",
    "We are going to test this using two sample one-tailed t test to see if there is actually a significant difference between the two conditions. We are using one tailed instead of two tailed because we hypothesize that incongruenity makes it more difficult to name the colors, hence a longer time is needed for the participant to name all the colors. I chose to use t test instead of z test because z score comparison is usually used when you know the population parameters. In our case, we only have the sample description. Also, since our sample number is below 30, we cannot assume that our sample follows a normal distribution. A t test that uses a t distribution is more appropriate since it will take account of this higher uncertainty for having a smaller sample size."
   ]
  },
  {
   "cell_type": "markdown",
   "metadata": {},
   "source": [
    "Q3: We are going to look at the median and mean as well as the variance and standard deviation of the sample for both congruent and incongruent test groups."
   ]
  },
  {
   "cell_type": "code",
   "execution_count": 4,
   "metadata": {
    "collapsed": false
   },
   "outputs": [
    {
     "data": {
      "text/plain": [
       "Congruent      14.051125\n",
       "Incongruent    22.015917\n",
       "dtype: float64"
      ]
     },
     "execution_count": 4,
     "metadata": {},
     "output_type": "execute_result"
    }
   ],
   "source": [
    "stroop_df.apply(np.mean)"
   ]
  },
  {
   "cell_type": "code",
   "execution_count": 5,
   "metadata": {
    "collapsed": false
   },
   "outputs": [
    {
     "data": {
      "text/plain": [
       "Congruent      14.3565\n",
       "Incongruent    21.0175\n",
       "dtype: float64"
      ]
     },
     "execution_count": 5,
     "metadata": {},
     "output_type": "execute_result"
    }
   ],
   "source": [
    "stroop_df.apply(np.median)"
   ]
  },
  {
   "cell_type": "code",
   "execution_count": 6,
   "metadata": {
    "collapsed": false
   },
   "outputs": [
    {
     "data": {
      "text/plain": [
       "Congruent      12.141153\n",
       "Incongruent    22.052934\n",
       "dtype: float64"
      ]
     },
     "execution_count": 6,
     "metadata": {},
     "output_type": "execute_result"
    }
   ],
   "source": [
    "stroop_df.apply(np.var)"
   ]
  },
  {
   "cell_type": "code",
   "execution_count": 7,
   "metadata": {
    "collapsed": false
   },
   "outputs": [
    {
     "data": {
      "text/plain": [
       "Congruent      3.559358\n",
       "Incongruent    4.797057\n",
       "dtype: float64"
      ]
     },
     "execution_count": 7,
     "metadata": {},
     "output_type": "execute_result"
    }
   ],
   "source": [
    "np.std(stroop_df,ddof=1) #standard error for sample"
   ]
  },
  {
   "cell_type": "markdown",
   "metadata": {},
   "source": [
    "Q4: Now we are going to plot the distribution to a histogram"
   ]
  },
  {
   "cell_type": "code",
   "execution_count": 8,
   "metadata": {
    "collapsed": false
   },
   "outputs": [
    {
     "data": {
      "text/plain": [
       "<matplotlib.text.Text at 0x11d72990>"
      ]
     },
     "execution_count": 8,
     "metadata": {},
     "output_type": "execute_result"
    },
    {
     "data": {
      "image/png": "[encoded data removed]",
      "text/plain": [
       "<matplotlib.figure.Figure at 0x11d391d0>"
      ]
     },
     "metadata": {},
     "output_type": "display_data"
    }
   ],
   "source": [
    "plt.hist(stroop_df['Congruent'])\n",
    "plt.title('Distribution of Time for Congruent Test Group')\n",
    "plt.xlabel('Time (s)')\n",
    "plt.ylabel('Count')"
   ]
  },
  {
   "cell_type": "code",
   "execution_count": 9,
   "metadata": {
    "collapsed": false
   },
   "outputs": [
    {
     "data": {
      "text/plain": [
       "<matplotlib.text.Text at 0x11e69e10>"
      ]
     },
     "execution_count": 9,
     "metadata": {},
     "output_type": "execute_result"
    },
    {
     "data": {
      "image/png": "[encoded data removed]",
      "text/plain": [
       "<matplotlib.figure.Figure at 0x11dfb1f0>"
      ]
     },
     "metadata": {},
     "output_type": "display_data"
    }
   ],
   "source": [
    "plt.hist(stroop_df['Incongruent'])\n",
    "plt.title('Distribution of Time for Incongruent Test Group')\n",
    "plt.xlabel('Time (s)')\n",
    "plt.ylabel('Count')"
   ]
  },
  {
   "cell_type": "markdown",
   "metadata": {},
   "source": [
    "The distribution looks positively skewed for both of the test groups. Our non-normal distribution assumption is supported from the graphs we just plotted."
   ]
  },
  {
   "cell_type": "markdown",
   "metadata": {},
   "source": [
    "Q5: Conduct one-tailed t test to see if there is any meaningful difference between the two test groups. We choose alpha as 0.05 so we can have a 95% confidence level about the results. Since the variance from the two groups are not very similar to each other. We need to perform Welch's t test."
   ]
  },
  {
   "cell_type": "code",
   "execution_count": 29,
   "metadata": {
    "collapsed": false
   },
   "outputs": [
    {
     "data": {
      "text/plain": [
       "8.020706944109957"
      ]
     },
     "execution_count": 29,
     "metadata": {},
     "output_type": "execute_result"
    }
   ],
   "source": [
    "#Calculate t-statistic and p value\n",
    "#The variance is unequal so use sd=sqrt(s1^2+s2^2)\n",
    "stroop_df['Difference']=stroop_df['Incongruent']-stroop_df['Congruent']\n",
    "stddev=np.std(stroop_df['Difference'],ddof=1)\n",
    "t=(np.mean(stroop_df['Incongruent'])-np.mean(stroop_df['Congruent']))/(stddev/np.sqrt(24))\n",
    "t"
   ]
  },
  {
   "cell_type": "markdown",
   "metadata": {},
   "source": [
    "Looking at a Welch's t test table for alpha = 0.05, the t critical value for degrees freedom of 23 (sample size is 24) is 1.714. From the t test, we get our t value to be 8.02 which is much larger than the t critical. The p value is smaller than 0.0005 according to the t table. From this, we can say that we are 95% confident that there is a significant difference between the incongruent test group and congruent test group and we can reject the null hypothesis. This means that it takes longer time in average for participants to correctly name the color of the words when they are incongruent!"
   ]
  },
  {
   "cell_type": "markdown",
   "metadata": {},
   "source": [
    "Q6: The most probable reason for this is that our brains are programmed to read the words and we are used to read a word before identify what color the word is so it is much faster for us to do what we are most used to do and takes extra effort to do something out of the ordinary.\n",
    "\n",
    "I think similar tests can be used to test if people have depression by recording the time it takes for people to respond to depression related words. Or a similar task would be classifying things as good or bad and we can correlate certain stereotypical mindset that people have by monitoring the delay time when people classify these things."
   ]
  },
  {
   "cell_type": "code",
   "execution_count": null,
   "metadata": {
    "collapsed": true
   },
   "outputs": [],
   "source": []
  }
 ],
 "metadata": {
  "kernelspec": {
   "display_name": "Python 2",
   "language": "python",
   "name": "python2"
  },
  "language_info": {
   "codemirror_mode": {
    "name": "ipython",
    "version": 2
   },
   "file_extension": ".py",
   "mimetype": "text/x-python",
   "name": "python",
   "nbconvert_exporter": "python",
   "pygments_lexer": "ipython2",
   "version": "2.7.11"
  }
 },
 "nbformat": 4,
 "nbformat_minor": 2
}
